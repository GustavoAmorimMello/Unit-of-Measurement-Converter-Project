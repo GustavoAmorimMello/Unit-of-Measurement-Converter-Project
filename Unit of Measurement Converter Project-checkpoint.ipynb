{
 "cells": [
  {
   "cell_type": "markdown",
   "id": "4f9e1e0c-993a-4d8f-a773-2682502ab94c",
   "metadata": {},
   "source": [
    "### Unit of Measurement Converter Project"
   ]
  },
  {
   "cell_type": "code",
   "execution_count": 10,
   "id": "e03f3334-fd6d-4630-8283-63269d9fff57",
   "metadata": {},
   "outputs": [
    {
     "name": "stdin",
     "output_type": "stream",
     "text": [
      "Enter Starting Unit of Measurement(inches, feet, yards):  inches\n",
      "Enter Starting Unit to Convert(inches, feet, yards):  yards\n",
      "Enter Starting Measurement in Inches:  30\n"
     ]
    }
   ],
   "source": [
    "convert_from = input(\"Enter Starting Unit of Measurement(inches, feet, yards): \")\n",
    "convert_to = input(\"Enter Starting Unit to Convert(inches, feet, yards): \")\n",
    "number_of_inches = input(\"Enter Starting Measurement in Inches: \")\n",
    "number_of_feet = input(\"Enter Starting Measurement in Feet: \")\n",
    "number_of_yards = input(\"Enter Starting Measurement in Yards: \")"
   ]
  },
  {
   "cell_type": "code",
   "execution_count": 39,
   "id": "87727eae-6f87-4679-8979-3888bc68bef9",
   "metadata": {},
   "outputs": [
    {
     "name": "stdin",
     "output_type": "stream",
     "text": [
      "Enter Starting Unit of Measurement(inches, feet, yards):  k\n",
      "Enter Starting Unit to Convert(inches, feet, yards):  o\n"
     ]
    },
    {
     "name": "stdout",
     "output_type": "stream",
     "text": [
      "Please, Enter either Inches, Feet, or Yards.\n"
     ]
    }
   ],
   "source": [
    "convert_from = input(\"Enter Starting Unit of Measurement(inches, feet, yards): \")\n",
    "\n",
    "convert_to = input(\"Enter Starting Unit to Convert(inches, feet, yards): \")\n",
    "\n",
    "if convert_from.lower() in [\"inches\",\"in\",\"inch\"]:\n",
    "    number_of_inches = int(input(\"Enter Starting Measurement in Inches: \"))\n",
    "    if convert_to.lower() in [\"feet\",\"foot\",\"ft\"]:\n",
    "        print(\"Result: \" + str(number_of_inches) + \" Inches = \" + str(round(number_of_inches/ 12)) + \" Feet\")\n",
    "    elif convert_to.lower() in [\"yards\", \"yard\",\"yds\",\"yd\"]:\n",
    "        print(\"Result: \" + str(number_of_inches) + \" Inches = \" + str(round(number_of_inches / 36)) + \" Yards\")\n",
    "    else:\n",
    "        print(\"Please, Enter either Inches, Feet, or Yards.\")\n",
    "elif convert_from.lower() in [\"feet\",\"foot\",\"ft\"]:\n",
    "    number_of_feet = int(input(\"Enter Starting Measurement in feet: \"))\n",
    "    if convert_to.lower() in [\"inches\",\"in\",\"inch\"]:\n",
    "        print(\"Result: \" + str(number_of_feet) + \" Feet = \" + str(round(number_of_feet * 12)) + \" Inches\")\n",
    "    elif convert_to.lower() in [\"yards\", \"yard\",\"yds\",\"yd\"]:\n",
    "        print(\"Result: \" + str(number_of_feet) + \" Feet = \" + str(round(number_of_feet / 3)) + \" Yards\")\n",
    "    else:\n",
    "        print(\"Please, Enter either Inches, Feet, or Yards.\")\n",
    "elif convert_from.lower() in [\"yards\", \"yard\",\"yds\",\"yd\"]:\n",
    "    number_of_yards = int(input(\"Enter Starting Measurement in yards: \"))\n",
    "    if convert_to.lower() in [\"inches\",\"in\",\"inch\"]:\n",
    "        print(\"Result: \" + str(number_of_yards) + \" Yards = \" + str(round(number_of_yards * 36)) + \" Inches\")\n",
    "    elif convert_to.lower() in [\"feet\",\"foot\",\"ft\"]:\n",
    "        print(\"Result: \" + str(number_of_yards) + \" Yards = \" + str(round(number_of_yards * 3)) + \" Feet\")\n",
    "    else:\n",
    "        print(\"Please, Enter either Inches, Feet, or Yards.\")\n",
    "else:\n",
    "    print(\"Please, Enter either Inches, Feet, or Yards.\")   "
   ]
  },
  {
   "cell_type": "code",
   "execution_count": null,
   "id": "8ee8072f-7aad-4216-b57a-d79470a58b89",
   "metadata": {},
   "outputs": [],
   "source": []
  }
 ],
 "metadata": {
  "kernelspec": {
   "display_name": "Python 3 (ipykernel)",
   "language": "python",
   "name": "python3"
  },
  "language_info": {
   "codemirror_mode": {
    "name": "ipython",
    "version": 3
   },
   "file_extension": ".py",
   "mimetype": "text/x-python",
   "name": "python",
   "nbconvert_exporter": "python",
   "pygments_lexer": "ipython3",
   "version": "3.12.4"
  }
 },
 "nbformat": 4,
 "nbformat_minor": 5
}
